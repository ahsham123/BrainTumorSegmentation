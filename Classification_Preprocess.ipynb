{
  "nbformat": 4,
  "nbformat_minor": 0,
  "metadata": {
    "colab": {
      "provenance": [],
      "machine_shape": "hm",
      "gpuType": "A100",
      "mount_file_id": "11W_s6o1ASze3E012mZ0x-6M78H-gB0NT",
      "authorship_tag": "ABX9TyMJi137A5u/rbgPcrGfVDZA",
      "include_colab_link": true
    },
    "kernelspec": {
      "name": "python3",
      "display_name": "Python 3"
    },
    "language_info": {
      "name": "python"
    },
    "accelerator": "GPU"
  },
  "cells": [
    {
      "cell_type": "markdown",
      "metadata": {
        "id": "view-in-github",
        "colab_type": "text"
      },
      "source": [
        "<a href=\"https://colab.research.google.com/github/ahsham123/BrainTumorSegmentation/blob/master/Classification_Preprocess.ipynb\" target=\"_parent\"><img src=\"https://colab.research.google.com/assets/colab-badge.svg\" alt=\"Open In Colab\"/></a>"
      ]
    },
    {
      "cell_type": "code",
      "source": [
        "from google.colab import drive\n",
        "drive.mount('/content/drive')"
      ],
      "metadata": {
        "colab": {
          "base_uri": "https://localhost:8080/"
        },
        "id": "436U74wLlOEu",
        "outputId": "614ad4f3-4503-4aa2-a239-78d6a02eca27"
      },
      "execution_count": 1,
      "outputs": [
        {
          "output_type": "stream",
          "name": "stdout",
          "text": [
            "Drive already mounted at /content/drive; to attempt to forcibly remount, call drive.mount(\"/content/drive\", force_remount=True).\n"
          ]
        }
      ]
    },
    {
      "cell_type": "code",
      "execution_count": 2,
      "metadata": {
        "id": "wfzyC-cVvUZo"
      },
      "outputs": [],
      "source": [
        "import numpy as np\n",
        "import pandas as pd\n",
        "\n",
        "\n",
        "df = pd.read_csv(\"data.csv\")\n",
        "\n",
        "\n",
        "\n",
        "\n"
      ]
    },
    {
      "cell_type": "code",
      "source": [
        "cols = df.columns.tolist()\n",
        "cols[0], cols[1] = cols[1], cols[0]\n",
        "df = df[cols]\n",
        "\n",
        "df.head(10)"
      ],
      "metadata": {
        "colab": {
          "base_uri": "https://localhost:8080/",
          "height": 363
        },
        "id": "aEl1oMWNknwK",
        "outputId": "13fbf7d2-ed43-4e7b-b850-8e81e18a7516"
      },
      "execution_count": 3,
      "outputs": [
        {
          "output_type": "execute_result",
          "data": {
            "text/plain": [
              "  Img Number  Tumor Type\n",
              "0     LGG001           1\n",
              "1     LGG002           1\n",
              "2     LGG003           2\n",
              "3     LGG007           2\n",
              "4     LGG008           1\n",
              "5     LGG010           1\n",
              "6     LGG011           2\n",
              "7     LGG013           2\n",
              "8     LGG014           2\n",
              "9     LGG015           2"
            ],
            "text/html": [
              "\n",
              "  <div id=\"df-0459d410-a66c-4754-8d17-cc8f10dee923\">\n",
              "    <div class=\"colab-df-container\">\n",
              "      <div>\n",
              "<style scoped>\n",
              "    .dataframe tbody tr th:only-of-type {\n",
              "        vertical-align: middle;\n",
              "    }\n",
              "\n",
              "    .dataframe tbody tr th {\n",
              "        vertical-align: top;\n",
              "    }\n",
              "\n",
              "    .dataframe thead th {\n",
              "        text-align: right;\n",
              "    }\n",
              "</style>\n",
              "<table border=\"1\" class=\"dataframe\">\n",
              "  <thead>\n",
              "    <tr style=\"text-align: right;\">\n",
              "      <th></th>\n",
              "      <th>Img Number</th>\n",
              "      <th>Tumor Type</th>\n",
              "    </tr>\n",
              "  </thead>\n",
              "  <tbody>\n",
              "    <tr>\n",
              "      <th>0</th>\n",
              "      <td>LGG001</td>\n",
              "      <td>1</td>\n",
              "    </tr>\n",
              "    <tr>\n",
              "      <th>1</th>\n",
              "      <td>LGG002</td>\n",
              "      <td>1</td>\n",
              "    </tr>\n",
              "    <tr>\n",
              "      <th>2</th>\n",
              "      <td>LGG003</td>\n",
              "      <td>2</td>\n",
              "    </tr>\n",
              "    <tr>\n",
              "      <th>3</th>\n",
              "      <td>LGG007</td>\n",
              "      <td>2</td>\n",
              "    </tr>\n",
              "    <tr>\n",
              "      <th>4</th>\n",
              "      <td>LGG008</td>\n",
              "      <td>1</td>\n",
              "    </tr>\n",
              "    <tr>\n",
              "      <th>5</th>\n",
              "      <td>LGG010</td>\n",
              "      <td>1</td>\n",
              "    </tr>\n",
              "    <tr>\n",
              "      <th>6</th>\n",
              "      <td>LGG011</td>\n",
              "      <td>2</td>\n",
              "    </tr>\n",
              "    <tr>\n",
              "      <th>7</th>\n",
              "      <td>LGG013</td>\n",
              "      <td>2</td>\n",
              "    </tr>\n",
              "    <tr>\n",
              "      <th>8</th>\n",
              "      <td>LGG014</td>\n",
              "      <td>2</td>\n",
              "    </tr>\n",
              "    <tr>\n",
              "      <th>9</th>\n",
              "      <td>LGG015</td>\n",
              "      <td>2</td>\n",
              "    </tr>\n",
              "  </tbody>\n",
              "</table>\n",
              "</div>\n",
              "      <button class=\"colab-df-convert\" onclick=\"convertToInteractive('df-0459d410-a66c-4754-8d17-cc8f10dee923')\"\n",
              "              title=\"Convert this dataframe to an interactive table.\"\n",
              "              style=\"display:none;\">\n",
              "        \n",
              "  <svg xmlns=\"http://www.w3.org/2000/svg\" height=\"24px\"viewBox=\"0 0 24 24\"\n",
              "       width=\"24px\">\n",
              "    <path d=\"M0 0h24v24H0V0z\" fill=\"none\"/>\n",
              "    <path d=\"M18.56 5.44l.94 2.06.94-2.06 2.06-.94-2.06-.94-.94-2.06-.94 2.06-2.06.94zm-11 1L8.5 8.5l.94-2.06 2.06-.94-2.06-.94L8.5 2.5l-.94 2.06-2.06.94zm10 10l.94 2.06.94-2.06 2.06-.94-2.06-.94-.94-2.06-.94 2.06-2.06.94z\"/><path d=\"M17.41 7.96l-1.37-1.37c-.4-.4-.92-.59-1.43-.59-.52 0-1.04.2-1.43.59L10.3 9.45l-7.72 7.72c-.78.78-.78 2.05 0 2.83L4 21.41c.39.39.9.59 1.41.59.51 0 1.02-.2 1.41-.59l7.78-7.78 2.81-2.81c.8-.78.8-2.07 0-2.86zM5.41 20L4 18.59l7.72-7.72 1.47 1.35L5.41 20z\"/>\n",
              "  </svg>\n",
              "      </button>\n",
              "      \n",
              "  <style>\n",
              "    .colab-df-container {\n",
              "      display:flex;\n",
              "      flex-wrap:wrap;\n",
              "      gap: 12px;\n",
              "    }\n",
              "\n",
              "    .colab-df-convert {\n",
              "      background-color: #E8F0FE;\n",
              "      border: none;\n",
              "      border-radius: 50%;\n",
              "      cursor: pointer;\n",
              "      display: none;\n",
              "      fill: #1967D2;\n",
              "      height: 32px;\n",
              "      padding: 0 0 0 0;\n",
              "      width: 32px;\n",
              "    }\n",
              "\n",
              "    .colab-df-convert:hover {\n",
              "      background-color: #E2EBFA;\n",
              "      box-shadow: 0px 1px 2px rgba(60, 64, 67, 0.3), 0px 1px 3px 1px rgba(60, 64, 67, 0.15);\n",
              "      fill: #174EA6;\n",
              "    }\n",
              "\n",
              "    [theme=dark] .colab-df-convert {\n",
              "      background-color: #3B4455;\n",
              "      fill: #D2E3FC;\n",
              "    }\n",
              "\n",
              "    [theme=dark] .colab-df-convert:hover {\n",
              "      background-color: #434B5C;\n",
              "      box-shadow: 0px 1px 3px 1px rgba(0, 0, 0, 0.15);\n",
              "      filter: drop-shadow(0px 1px 2px rgba(0, 0, 0, 0.3));\n",
              "      fill: #FFFFFF;\n",
              "    }\n",
              "  </style>\n",
              "\n",
              "      <script>\n",
              "        const buttonEl =\n",
              "          document.querySelector('#df-0459d410-a66c-4754-8d17-cc8f10dee923 button.colab-df-convert');\n",
              "        buttonEl.style.display =\n",
              "          google.colab.kernel.accessAllowed ? 'block' : 'none';\n",
              "\n",
              "        async function convertToInteractive(key) {\n",
              "          const element = document.querySelector('#df-0459d410-a66c-4754-8d17-cc8f10dee923');\n",
              "          const dataTable =\n",
              "            await google.colab.kernel.invokeFunction('convertToInteractive',\n",
              "                                                     [key], {});\n",
              "          if (!dataTable) return;\n",
              "\n",
              "          const docLinkHtml = 'Like what you see? Visit the ' +\n",
              "            '<a target=\"_blank\" href=https://colab.research.google.com/notebooks/data_table.ipynb>data table notebook</a>'\n",
              "            + ' to learn more about interactive tables.';\n",
              "          element.innerHTML = '';\n",
              "          dataTable['output_type'] = 'display_data';\n",
              "          await google.colab.output.renderOutput(dataTable, element);\n",
              "          const docLink = document.createElement('div');\n",
              "          docLink.innerHTML = docLinkHtml;\n",
              "          element.appendChild(docLink);\n",
              "        }\n",
              "      </script>\n",
              "    </div>\n",
              "  </div>\n",
              "  "
            ]
          },
          "metadata": {},
          "execution_count": 3
        }
      ]
    },
    {
      "cell_type": "code",
      "source": [
        "len(df)"
      ],
      "metadata": {
        "colab": {
          "base_uri": "https://localhost:8080/"
        },
        "id": "ytnuRM_Nq2F2",
        "outputId": "572aefd5-b40f-42fa-e931-cf429c62decb"
      },
      "execution_count": 4,
      "outputs": [
        {
          "output_type": "execute_result",
          "data": {
            "text/plain": [
              "96"
            ]
          },
          "metadata": {},
          "execution_count": 4
        }
      ]
    },
    {
      "cell_type": "code",
      "source": [],
      "metadata": {
        "id": "pwWZUpEkkrf8"
      },
      "execution_count": 4,
      "outputs": []
    },
    {
      "cell_type": "code",
      "source": [],
      "metadata": {
        "id": "I-s2Vnipkrml"
      },
      "execution_count": 4,
      "outputs": []
    },
    {
      "cell_type": "code",
      "source": [
        "# 0  for circumscribed tumor, 1 for infiltrating tumor\n",
        "\n",
        "\n",
        "df['Tumor Type'] = df['Tumor Type'].replace({1.0: 0, 2.0: 1})\n",
        "df.head(10)\n",
        "\n",
        "\n",
        "print(type(df['Tumor Type']))"
      ],
      "metadata": {
        "colab": {
          "base_uri": "https://localhost:8080/"
        },
        "id": "qBpsMIfsxF98",
        "outputId": "480a297b-27b3-49a3-d494-93f201e0e38e"
      },
      "execution_count": 5,
      "outputs": [
        {
          "output_type": "stream",
          "name": "stdout",
          "text": [
            "<class 'pandas.core.series.Series'>\n"
          ]
        }
      ]
    },
    {
      "cell_type": "code",
      "source": [
        "import os\n",
        "\n",
        "img_dir = ('/content/drive/MyDrive/data_unzip/output')\n",
        "img_list = os.listdir(img_dir)\n"
      ],
      "metadata": {
        "id": "TzKI7Z_8k3oy"
      },
      "execution_count": 6,
      "outputs": []
    },
    {
      "cell_type": "code",
      "source": [
        "img_list\n",
        "remove = ['LGG073.npy','LGG079.npy','LGG117.npy']\n"
      ],
      "metadata": {
        "id": "Y11gk93fk3sm"
      },
      "execution_count": 7,
      "outputs": []
    },
    {
      "cell_type": "code",
      "source": [
        "final_img_list = [name for name in img_list if name not in remove]\n",
        "len(final_img_list)\n",
        "final_img_list.sort()"
      ],
      "metadata": {
        "id": "9K9WJq5xwFjm"
      },
      "execution_count": 8,
      "outputs": []
    },
    {
      "cell_type": "code",
      "source": [
        "\n",
        "num_images = len(final_img_list)\n",
        "print(num_images)"
      ],
      "metadata": {
        "colab": {
          "base_uri": "https://localhost:8080/"
        },
        "id": "19Jv240ivnhQ",
        "outputId": "499cbdf8-5c5f-4ac8-e9db-3dde8bc41904"
      },
      "execution_count": 9,
      "outputs": [
        {
          "output_type": "stream",
          "name": "stdout",
          "text": [
            "96\n"
          ]
        }
      ]
    },
    {
      "cell_type": "code",
      "source": [
        "img_names = [filename[:-4] if filename.endswith('.npy') else filename for filename in final_img_list]\n",
        "\n",
        "img_names"
      ],
      "metadata": {
        "colab": {
          "base_uri": "https://localhost:8080/"
        },
        "id": "gVWa7Axzo4Fh",
        "outputId": "00b4a73d-87a3-4d7a-f38f-fe22e66330fd"
      },
      "execution_count": 10,
      "outputs": [
        {
          "output_type": "execute_result",
          "data": {
            "text/plain": [
              "['LGG001',\n",
              " 'LGG002',\n",
              " 'LGG003',\n",
              " 'LGG007',\n",
              " 'LGG008',\n",
              " 'LGG010',\n",
              " 'LGG011',\n",
              " 'LGG013',\n",
              " 'LGG014',\n",
              " 'LGG015',\n",
              " 'LGG016',\n",
              " 'LGG017',\n",
              " 'LGG018',\n",
              " 'LGG019',\n",
              " 'LGG020',\n",
              " 'LGG025',\n",
              " 'LGG026',\n",
              " 'LGG027',\n",
              " 'LGG029',\n",
              " 'LGG030',\n",
              " 'LGG031',\n",
              " 'LGG032',\n",
              " 'LGG035',\n",
              " 'LGG038',\n",
              " 'LGG039',\n",
              " 'LGG041',\n",
              " 'LGG042',\n",
              " 'LGG043',\n",
              " 'LGG047',\n",
              " 'LGG052',\n",
              " 'LGG054',\n",
              " 'LGG055',\n",
              " 'LGG056',\n",
              " 'LGG057',\n",
              " 'LGG058',\n",
              " 'LGG059',\n",
              " 'LGG062',\n",
              " 'LGG064',\n",
              " 'LGG065',\n",
              " 'LGG066',\n",
              " 'LGG067',\n",
              " 'LGG068',\n",
              " 'LGG069',\n",
              " 'LGG070',\n",
              " 'LGG072',\n",
              " 'LGG076',\n",
              " 'LGG077',\n",
              " 'LGG080',\n",
              " 'LGG081',\n",
              " 'LGG082',\n",
              " 'LGG083',\n",
              " 'LGG084',\n",
              " 'LGG085',\n",
              " 'LGG100',\n",
              " 'LGG101',\n",
              " 'LGG102',\n",
              " 'LGG103',\n",
              " 'LGG104',\n",
              " 'LGG105',\n",
              " 'LGG107',\n",
              " 'LGG112',\n",
              " 'LGG119',\n",
              " 'LGG120',\n",
              " 'LGG121',\n",
              " 'LGG123',\n",
              " 'LGG124',\n",
              " 'LGG125',\n",
              " 'LGG126',\n",
              " 'LGG127',\n",
              " 'LGG128',\n",
              " 'LGG129',\n",
              " 'LGG130',\n",
              " 'LGG131',\n",
              " 'LGG133',\n",
              " 'LGG134',\n",
              " 'LGG138',\n",
              " 'LGG139',\n",
              " 'LGG141',\n",
              " 'LGG142',\n",
              " 'LGG144',\n",
              " 'LGG145',\n",
              " 'LGG146',\n",
              " 'LGG147',\n",
              " 'LGG148',\n",
              " 'LGG149',\n",
              " 'LGG150',\n",
              " 'LGG151',\n",
              " 'LGG152',\n",
              " 'LGG154',\n",
              " 'LGG155',\n",
              " 'LGG157',\n",
              " 'LGG158',\n",
              " 'LGG159',\n",
              " 'LGG161',\n",
              " 'LGG162',\n",
              " 'LGG165']"
            ]
          },
          "metadata": {},
          "execution_count": 10
        }
      ]
    },
    {
      "cell_type": "code",
      "source": [],
      "metadata": {
        "id": "JkvhCbjXp4Nh"
      },
      "execution_count": 10,
      "outputs": []
    },
    {
      "cell_type": "code",
      "source": [],
      "metadata": {
        "id": "ZJTkM4Ddo4ID"
      },
      "execution_count": 10,
      "outputs": []
    },
    {
      "cell_type": "code",
      "source": [
        "images = []\n",
        "\n",
        "\n",
        "for i,image_name in enumerate(final_img_list):\n",
        "\n",
        "    if image_name.split('.')[1] == 'npy':\n",
        "      image_path = os.path.join(img_dir, image_name)\n",
        "      image = np.load(image_path)\n",
        "      image = image.reshape(256, 256, 128, 2)\n",
        "      print(i)\n",
        "      print(image.shape)\n",
        "      images.append(image)"
      ],
      "metadata": {
        "id": "3EGIudBzx_1b",
        "colab": {
          "base_uri": "https://localhost:8080/"
        },
        "outputId": "c205d172-53af-448f-ffff-cd85307c7266"
      },
      "execution_count": 11,
      "outputs": [
        {
          "output_type": "stream",
          "name": "stdout",
          "text": [
            "0\n",
            "(256, 256, 128, 2)\n",
            "1\n",
            "(256, 256, 128, 2)\n",
            "2\n",
            "(256, 256, 128, 2)\n",
            "3\n",
            "(256, 256, 128, 2)\n",
            "4\n",
            "(256, 256, 128, 2)\n",
            "5\n",
            "(256, 256, 128, 2)\n",
            "6\n",
            "(256, 256, 128, 2)\n",
            "7\n",
            "(256, 256, 128, 2)\n",
            "8\n",
            "(256, 256, 128, 2)\n",
            "9\n",
            "(256, 256, 128, 2)\n",
            "10\n",
            "(256, 256, 128, 2)\n",
            "11\n",
            "(256, 256, 128, 2)\n",
            "12\n",
            "(256, 256, 128, 2)\n",
            "13\n",
            "(256, 256, 128, 2)\n",
            "14\n",
            "(256, 256, 128, 2)\n",
            "15\n",
            "(256, 256, 128, 2)\n",
            "16\n",
            "(256, 256, 128, 2)\n",
            "17\n",
            "(256, 256, 128, 2)\n",
            "18\n",
            "(256, 256, 128, 2)\n",
            "19\n",
            "(256, 256, 128, 2)\n",
            "20\n",
            "(256, 256, 128, 2)\n",
            "21\n",
            "(256, 256, 128, 2)\n",
            "22\n",
            "(256, 256, 128, 2)\n",
            "23\n",
            "(256, 256, 128, 2)\n",
            "24\n",
            "(256, 256, 128, 2)\n",
            "25\n",
            "(256, 256, 128, 2)\n",
            "26\n",
            "(256, 256, 128, 2)\n",
            "27\n",
            "(256, 256, 128, 2)\n",
            "28\n",
            "(256, 256, 128, 2)\n",
            "29\n",
            "(256, 256, 128, 2)\n",
            "30\n",
            "(256, 256, 128, 2)\n",
            "31\n",
            "(256, 256, 128, 2)\n",
            "32\n",
            "(256, 256, 128, 2)\n",
            "33\n",
            "(256, 256, 128, 2)\n",
            "34\n",
            "(256, 256, 128, 2)\n",
            "35\n",
            "(256, 256, 128, 2)\n",
            "36\n",
            "(256, 256, 128, 2)\n",
            "37\n",
            "(256, 256, 128, 2)\n",
            "38\n",
            "(256, 256, 128, 2)\n",
            "39\n",
            "(256, 256, 128, 2)\n",
            "40\n",
            "(256, 256, 128, 2)\n",
            "41\n",
            "(256, 256, 128, 2)\n",
            "42\n",
            "(256, 256, 128, 2)\n",
            "43\n",
            "(256, 256, 128, 2)\n",
            "44\n",
            "(256, 256, 128, 2)\n",
            "45\n",
            "(256, 256, 128, 2)\n",
            "46\n",
            "(256, 256, 128, 2)\n",
            "47\n",
            "(256, 256, 128, 2)\n",
            "48\n",
            "(256, 256, 128, 2)\n",
            "49\n",
            "(256, 256, 128, 2)\n",
            "50\n",
            "(256, 256, 128, 2)\n",
            "51\n",
            "(256, 256, 128, 2)\n",
            "52\n",
            "(256, 256, 128, 2)\n",
            "53\n",
            "(256, 256, 128, 2)\n",
            "54\n",
            "(256, 256, 128, 2)\n",
            "55\n",
            "(256, 256, 128, 2)\n",
            "56\n",
            "(256, 256, 128, 2)\n",
            "57\n",
            "(256, 256, 128, 2)\n",
            "58\n",
            "(256, 256, 128, 2)\n",
            "59\n",
            "(256, 256, 128, 2)\n",
            "60\n",
            "(256, 256, 128, 2)\n",
            "61\n",
            "(256, 256, 128, 2)\n",
            "62\n",
            "(256, 256, 128, 2)\n",
            "63\n",
            "(256, 256, 128, 2)\n",
            "64\n",
            "(256, 256, 128, 2)\n",
            "65\n",
            "(256, 256, 128, 2)\n",
            "66\n",
            "(256, 256, 128, 2)\n",
            "67\n",
            "(256, 256, 128, 2)\n",
            "68\n",
            "(256, 256, 128, 2)\n",
            "69\n",
            "(256, 256, 128, 2)\n",
            "70\n",
            "(256, 256, 128, 2)\n",
            "71\n",
            "(256, 256, 128, 2)\n",
            "72\n",
            "(256, 256, 128, 2)\n",
            "73\n",
            "(256, 256, 128, 2)\n",
            "74\n",
            "(256, 256, 128, 2)\n",
            "75\n",
            "(256, 256, 128, 2)\n",
            "76\n",
            "(256, 256, 128, 2)\n",
            "77\n",
            "(256, 256, 128, 2)\n",
            "78\n",
            "(256, 256, 128, 2)\n",
            "79\n",
            "(256, 256, 128, 2)\n",
            "80\n",
            "(256, 256, 128, 2)\n",
            "81\n",
            "(256, 256, 128, 2)\n",
            "82\n",
            "(256, 256, 128, 2)\n",
            "83\n",
            "(256, 256, 128, 2)\n",
            "84\n",
            "(256, 256, 128, 2)\n",
            "85\n",
            "(256, 256, 128, 2)\n",
            "86\n",
            "(256, 256, 128, 2)\n",
            "87\n",
            "(256, 256, 128, 2)\n",
            "88\n",
            "(256, 256, 128, 2)\n",
            "89\n",
            "(256, 256, 128, 2)\n",
            "90\n",
            "(256, 256, 128, 2)\n",
            "91\n",
            "(256, 256, 128, 2)\n",
            "92\n",
            "(256, 256, 128, 2)\n",
            "93\n",
            "(256, 256, 128, 2)\n",
            "94\n",
            "(256, 256, 128, 2)\n",
            "95\n",
            "(256, 256, 128, 2)\n"
          ]
        }
      ]
    },
    {
      "cell_type": "code",
      "source": [
        "a = df['Tumor Type']\n",
        "\n",
        "# Create the dictionary\n",
        "values = dict(zip(final_img_list, a))\n",
        "\n",
        "# Display the dictionary\n",
        "print(values)"
      ],
      "metadata": {
        "colab": {
          "base_uri": "https://localhost:8080/"
        },
        "id": "Ib1AMCQr6WfL",
        "outputId": "c1429982-45d0-4c21-d002-f8139e9373f1"
      },
      "execution_count": 30,
      "outputs": [
        {
          "output_type": "stream",
          "name": "stdout",
          "text": [
            "{'LGG001.npy': 0, 'LGG002.npy': 0, 'LGG003.npy': 1, 'LGG007.npy': 1, 'LGG008.npy': 0, 'LGG010.npy': 0, 'LGG011.npy': 1, 'LGG013.npy': 1, 'LGG014.npy': 1, 'LGG015.npy': 1, 'LGG016.npy': 1, 'LGG017.npy': 1, 'LGG018.npy': 0, 'LGG019.npy': 0, 'LGG020.npy': 0, 'LGG025.npy': 1, 'LGG026.npy': 0, 'LGG027.npy': 0, 'LGG029.npy': 1, 'LGG030.npy': 1, 'LGG031.npy': 1, 'LGG032.npy': 1, 'LGG035.npy': 1, 'LGG038.npy': 1, 'LGG039.npy': 1, 'LGG041.npy': 0, 'LGG042.npy': 0, 'LGG043.npy': 1, 'LGG047.npy': 0, 'LGG052.npy': 1, 'LGG054.npy': 1, 'LGG055.npy': 1, 'LGG056.npy': 0, 'LGG057.npy': 0, 'LGG058.npy': 0, 'LGG059.npy': 1, 'LGG062.npy': 1, 'LGG064.npy': 1, 'LGG065.npy': 1, 'LGG066.npy': 1, 'LGG067.npy': 1, 'LGG068.npy': 1, 'LGG069.npy': 1, 'LGG070.npy': 1, 'LGG072.npy': 1, 'LGG076.npy': 1, 'LGG077.npy': 1, 'LGG080.npy': 1, 'LGG081.npy': 1, 'LGG082.npy': 1, 'LGG083.npy': 1, 'LGG084.npy': 1, 'LGG085.npy': 1, 'LGG100.npy': 1, 'LGG101.npy': 1, 'LGG102.npy': 1, 'LGG103.npy': 1, 'LGG104.npy': 1, 'LGG105.npy': 0, 'LGG107.npy': 0, 'LGG112.npy': 1, 'LGG119.npy': 1, 'LGG120.npy': 1, 'LGG121.npy': 1, 'LGG123.npy': 1, 'LGG124.npy': 1, 'LGG125.npy': 0, 'LGG126.npy': 0, 'LGG127.npy': 0, 'LGG128.npy': 0, 'LGG129.npy': 0, 'LGG130.npy': 0, 'LGG131.npy': 0, 'LGG133.npy': 0, 'LGG134.npy': 0, 'LGG138.npy': 1, 'LGG139.npy': 1, 'LGG141.npy': 1, 'LGG142.npy': 1, 'LGG144.npy': 1, 'LGG145.npy': 1, 'LGG146.npy': 1, 'LGG147.npy': 1, 'LGG148.npy': 1, 'LGG149.npy': 1, 'LGG150.npy': 1, 'LGG151.npy': 1, 'LGG152.npy': 1, 'LGG154.npy': 1, 'LGG155.npy': 1, 'LGG157.npy': 1, 'LGG158.npy': 1, 'LGG159.npy': 1, 'LGG161.npy': 1, 'LGG162.npy': 1, 'LGG165.npy': 1}\n"
          ]
        }
      ]
    },
    {
      "cell_type": "code",
      "source": [
        "my_dict = {}\n",
        "\n",
        "# Iterate over the list and DataFrame to populate the dictionary\n",
        "for key in final_img_list:\n",
        "    value = df.loc[df['TumorType'] == key, 'Column2'].values[0]\n",
        "    my_dict[key] = value"
      ],
      "metadata": {
        "id": "8JNtEGTz8AFP"
      },
      "execution_count": null,
      "outputs": []
    },
    {
      "cell_type": "code",
      "source": [
        "print(images[1].shape)\n",
        "\n",
        "\n",
        "len(df['Tumor Type'])"
      ],
      "metadata": {
        "colab": {
          "base_uri": "https://localhost:8080/"
        },
        "id": "cR0ajJiW1ZG6",
        "outputId": "d2a5009a-9ce9-4758-c505-560916e792ce"
      },
      "execution_count": 12,
      "outputs": [
        {
          "output_type": "stream",
          "name": "stdout",
          "text": [
            "(256, 256, 128, 2)\n"
          ]
        },
        {
          "output_type": "execute_result",
          "data": {
            "text/plain": [
              "96"
            ]
          },
          "metadata": {},
          "execution_count": 12
        }
      ]
    },
    {
      "cell_type": "code",
      "source": [
        "import tensorflow as tf\n",
        "from tensorflow.keras.models import Sequential\n",
        "from tensorflow.keras.layers import Conv3D, MaxPooling3D, Flatten, Dense\n",
        "\n",
        "# Define the input shape\n",
        "input_shape = (256, 256, 128, 2)\n",
        "num_classes = 2\n",
        "\n",
        "# Create a Sequential model\n",
        "model = Sequential()\n",
        "\n",
        "# Add Conv3D layers\n",
        "model.add(Conv3D(32, kernel_size=(3, 3, 3), activation='relu', input_shape=input_shape))\n",
        "model.add(MaxPooling3D(pool_size=(2, 2, 2)))\n",
        "model.add(Conv3D(64, kernel_size=(3, 3, 3), activation='relu'))\n",
        "model.add(MaxPooling3D(pool_size=(2, 2, 2)))\n",
        "model.add(Conv3D(128, kernel_size=(3, 3, 3), activation='relu'))\n",
        "model.add(MaxPooling3D(pool_size=(2, 2, 2)))\n",
        "\n",
        "# Flatten the output of the previous layer\n",
        "model.add(Flatten())\n",
        "\n",
        "# Add Dense layers for classification\n",
        "model.add(Dense(256, activation='relu'))\n",
        "model.add(Dense(128, activation='relu'))\n",
        "model.add(Dense(num_classes, activation='softmax'))\n",
        "\n",
        "# Compile the model\n",
        "model.compile(loss='categorical_crossentropy', optimizer='adam', metrics=['accuracy'])\n",
        "\n",
        "# Print the model summary\n",
        "model.summary()\n"
      ],
      "metadata": {
        "id": "LaRjlubE1cLB",
        "colab": {
          "base_uri": "https://localhost:8080/"
        },
        "outputId": "dcbd3ec3-9a27-4a74-c7d3-b9865d01e2de"
      },
      "execution_count": 13,
      "outputs": [
        {
          "output_type": "stream",
          "name": "stdout",
          "text": [
            "Model: \"sequential\"\n",
            "_________________________________________________________________\n",
            " Layer (type)                Output Shape              Param #   \n",
            "=================================================================\n",
            " conv3d (Conv3D)             (None, 254, 254, 126, 32  1760      \n",
            "                             )                                   \n",
            "                                                                 \n",
            " max_pooling3d (MaxPooling3D  (None, 127, 127, 63, 32)  0        \n",
            " )                                                               \n",
            "                                                                 \n",
            " conv3d_1 (Conv3D)           (None, 125, 125, 61, 64)  55360     \n",
            "                                                                 \n",
            " max_pooling3d_1 (MaxPooling  (None, 62, 62, 30, 64)   0         \n",
            " 3D)                                                             \n",
            "                                                                 \n",
            " conv3d_2 (Conv3D)           (None, 60, 60, 28, 128)   221312    \n",
            "                                                                 \n",
            " max_pooling3d_2 (MaxPooling  (None, 30, 30, 14, 128)  0         \n",
            " 3D)                                                             \n",
            "                                                                 \n",
            " flatten (Flatten)           (None, 1612800)           0         \n",
            "                                                                 \n",
            " dense (Dense)               (None, 256)               412877056 \n",
            "                                                                 \n",
            " dense_1 (Dense)             (None, 128)               32896     \n",
            "                                                                 \n",
            " dense_2 (Dense)             (None, 2)                 258       \n",
            "                                                                 \n",
            "=================================================================\n",
            "Total params: 413,188,642\n",
            "Trainable params: 413,188,642\n",
            "Non-trainable params: 0\n",
            "_________________________________________________________________\n"
          ]
        }
      ]
    },
    {
      "cell_type": "code",
      "source": [
        "X =  np.array(images)\n",
        "y = df['Tumor Type']\n",
        "\n",
        "print(len(X))\n",
        "print(len(y))"
      ],
      "metadata": {
        "colab": {
          "base_uri": "https://localhost:8080/"
        },
        "id": "su-Co1APnwM5",
        "outputId": "6333dfae-6f38-48e2-d55b-816590ccb102"
      },
      "execution_count": 14,
      "outputs": [
        {
          "output_type": "stream",
          "name": "stdout",
          "text": [
            "96\n",
            "96\n"
          ]
        }
      ]
    },
    {
      "cell_type": "code",
      "source": [
        "from sklearn.model_selection import train_test_split\n",
        "\n",
        "# Assuming X is a list or array of images and y is a list or array of tumor types\n",
        "\n",
        "# Perform train-test split\n",
        "X_train, X_test, y_train, y_test = train_test_split(X, y, test_size=0.2, random_state=42)\n",
        "\n",
        "# Print the shapes of the resulting datasets\n",
        "print(\"X_train shape:\", X_train.shape)\n",
        "print(\"X_test shape:\", X_test.shape)\n",
        "print(\"y_train shape:\", y_train.shape)\n",
        "print(\"y_test shape:\", y_test.shape)"
      ],
      "metadata": {
        "colab": {
          "base_uri": "https://localhost:8080/"
        },
        "id": "oT6L2qiWn0t5",
        "outputId": "ab91371a-beb7-4461-bbdf-0da240b4d9a9"
      },
      "execution_count": 15,
      "outputs": [
        {
          "output_type": "stream",
          "name": "stdout",
          "text": [
            "X_train shape: (76, 256, 256, 128, 2)\n",
            "X_test shape: (20, 256, 256, 128, 2)\n",
            "y_train shape: (76,)\n",
            "y_test shape: (20,)\n"
          ]
        }
      ]
    },
    {
      "cell_type": "code",
      "source": [
        "# Assuming you have X_train, Y_train, X_test, Y_test as your training and testing data\n",
        "\n",
        "# Convert the labels to one-hot encoded vectors\n",
        "Y_train_encoded = tf.keras.utils.to_categorical(y_train, num_classes)\n",
        "Y_test_encoded = tf.keras.utils.to_categorical(y_test, num_classes)\n",
        "\n",
        "\n",
        "\n",
        "# Train the model with early stopping\n",
        "history = model.fit(\n",
        "    X_train,\n",
        "    Y_train_encoded,\n",
        "    batch_size=2,\n",
        "    epochs=5,\n",
        "    verbose=1,\n",
        "\n",
        ")\n",
        "\n"
      ],
      "metadata": {
        "colab": {
          "base_uri": "https://localhost:8080/"
        },
        "id": "-EIhibtTn1zb",
        "outputId": "21104011-ecb0-4fd9-d5ae-96e88d7d79d6"
      },
      "execution_count": 16,
      "outputs": [
        {
          "output_type": "stream",
          "name": "stdout",
          "text": [
            "Epoch 1/5\n",
            "38/38 [==============================] - 14s 131ms/step - loss: 34.7827 - accuracy: 0.5921\n",
            "Epoch 2/5\n",
            "38/38 [==============================] - 5s 130ms/step - loss: 0.5871 - accuracy: 0.7237\n",
            "Epoch 3/5\n",
            "38/38 [==============================] - 5s 131ms/step - loss: 0.5920 - accuracy: 0.7500\n",
            "Epoch 4/5\n",
            "38/38 [==============================] - 5s 130ms/step - loss: 0.6033 - accuracy: 0.7500\n",
            "Epoch 5/5\n",
            "38/38 [==============================] - 5s 131ms/step - loss: 0.5860 - accuracy: 0.7500\n"
          ]
        }
      ]
    },
    {
      "cell_type": "code",
      "source": [
        "# Evaluate the model on the testing data\n",
        "#score = model.evaluate(X_test, Y_test_encoded, verbose=0)\n",
        "#print('Test loss:', score[0])\n",
        "#print('Test accuracy:', score[1])\n"
      ],
      "metadata": {
        "id": "MmoWQhl113bi"
      },
      "execution_count": 17,
      "outputs": []
    },
    {
      "cell_type": "code",
      "source": [
        "import numpy as np\n",
        "from sklearn.metrics import classification_report, confusion_matrix\n",
        "\n",
        "# Assuming you have X_test and Y_test as your test data\n",
        "X_test_reshaped = X_train[17].reshape((1, 256, 256, 128, 2))\n",
        "# Perform predictions on the test data\n",
        "prediction = model.predict(X_test_reshaped)\n",
        "\n",
        "print(prediction)\n",
        "# Convert the predictions to class labels\n",
        "#predicted_labels = np.argmax(predictions, axis=1)\n",
        "\n",
        "#print(predicted_labels)\n",
        "# Convert the true labels to class labels\n",
        "#true_labels = np.argmax(Y_test, axis=1)\n",
        "\n",
        "# Generate classification report\n",
        "#report = classification_report(true_labels, predicted_labels)\n",
        "\n",
        "#\n",
        "X_test[0].shape"
      ],
      "metadata": {
        "colab": {
          "base_uri": "https://localhost:8080/"
        },
        "id": "JlkfWrgHzget",
        "outputId": "0a428e51-4dea-48b1-f945-a7603322bf40"
      },
      "execution_count": 28,
      "outputs": [
        {
          "output_type": "stream",
          "name": "stdout",
          "text": [
            "1/1 [==============================] - 0s 49ms/step\n",
            "[[0.34395468 0.6560454 ]]\n"
          ]
        },
        {
          "output_type": "execute_result",
          "data": {
            "text/plain": [
              "(256, 256, 128, 2)"
            ]
          },
          "metadata": {},
          "execution_count": 28
        }
      ]
    },
    {
      "cell_type": "code",
      "source": [
        "X_train[16]"
      ],
      "metadata": {
        "id": "4VKcQvre66Ah"
      },
      "execution_count": null,
      "outputs": []
    },
    {
      "cell_type": "code",
      "source": [],
      "metadata": {
        "id": "uTvmMfNy5tw_"
      },
      "execution_count": null,
      "outputs": []
    }
  ]
}